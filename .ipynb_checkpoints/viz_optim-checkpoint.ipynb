{
 "cells": [
  {
   "cell_type": "code",
   "execution_count": null,
   "metadata": {
    "is_executing": true
   },
   "outputs": [],
   "source": [
    "import pandas as pd\n",
    "\n",
    "# Load the dataset\n",
    "df = pd.read_csv('resultats_A.csv')  # Replace with your file path\n",
    "\n",
    "# Aggregate data\n",
    "grouped_df = df.groupby(['Jour', 'Essence']).agg({'A': 'sum'}).reset_index()\n",
    "\n",
    "import plotly.express as px\n",
    "\n",
    "# Create a function to update the figure based on the selected 'Foret'\n",
    "def plot_foret(foret):\n",
    "    filtered_df = df[df['Foret'] == foret] if foret else df\n",
    "    fig = px.line(filtered_df, x='Jour', y='A', color='Essence',\n",
    "                  labels={'Jour': 'Day', 'A': 'Value of A'},\n",
    "                  title='Distribution and Trends of A over Time by Essence')\n",
    "    return fig\n",
    "\n",
    "# Initialize the plot with all data\n",
    "fig = plot_foret(None)\n",
    "\n",
    "# Add dropdown for filtering by 'Foret'\n",
    "foret_options = [{'label': foret, 'method': 'restyle', 'args': [{'visible': [foret == f for f in df['Foret']]}]} for foret in df['Foret'].unique()]\n",
    "fig.update_layout(updatemenus=[{\n",
    "    'buttons': foret_options,\n",
    "    'direction': 'down',\n",
    "    'showactive': True,\n",
    "}])\n",
    "\n",
    "# Show the figure\n",
    "fig.show()"
   ]
  },
  {
   "cell_type": "code",
   "execution_count": null,
   "outputs": [],
   "source": [],
   "metadata": {
    "collapsed": false
   }
  }
 ],
 "metadata": {
  "kernelspec": {
   "display_name": "Python 3",
   "language": "python",
   "name": "python3"
  },
  "language_info": {
   "codemirror_mode": {
    "name": "ipython",
    "version": 3
   },
   "file_extension": ".py",
   "mimetype": "text/x-python",
   "name": "python",
   "nbconvert_exporter": "python",
   "pygments_lexer": "ipython3",
   "version": "3.9.13"
  }
 },
 "nbformat": 4,
 "nbformat_minor": 2
}
